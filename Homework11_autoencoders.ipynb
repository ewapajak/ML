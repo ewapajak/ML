{
  "nbformat": 4,
  "nbformat_minor": 0,
  "metadata": {
    "colab": {
      "provenance": [],
      "authorship_tag": "ABX9TyOTGv4qvms4XiVzhdPPdQ2n",
      "include_colab_link": true
    },
    "kernelspec": {
      "name": "python3",
      "display_name": "Python 3"
    },
    "language_info": {
      "name": "python"
    }
  },
  "cells": [
    {
      "cell_type": "markdown",
      "metadata": {
        "id": "view-in-github",
        "colab_type": "text"
      },
      "source": [
        "<a href=\"https://colab.research.google.com/github/ewapajak/ML/blob/main/Homework11_autoencoders.ipynb\" target=\"_parent\"><img src=\"https://colab.research.google.com/assets/colab-badge.svg\" alt=\"Open In Colab\"/></a>"
      ]
    },
    {
      "cell_type": "markdown",
      "source": [
        "# **Homework Assignment: Understanding Deconvolution in Autoencoders**\n",
        "---------------"
      ],
      "metadata": {
        "id": "mdjICVBgoFPU"
      }
    },
    {
      "cell_type": "markdown",
      "source": [
        "### 1. **Theory Exploration**\n",
        "\n",
        "Using markdown cells in your Colab notebook, answer the following:"
      ],
      "metadata": {
        "id": "bBqnHZ-joIVR"
      }
    },
    {
      "cell_type": "markdown",
      "source": [
        "- What is a **transposed convolution**?\n",
        "- How does it differ from a regular convolution?\n",
        "- How does it upsample feature maps?\n",
        "- What are **stride**, **padding**, and **kernel size**, and how do they influence the result in a transposed convolution?\n",
        "- To earn full two points, your explanation must be detailed enough for a reader to reproduce the upsampling process step by step."
      ],
      "metadata": {
        "id": "FWMoB-VNoMsE"
      }
    },
    {
      "cell_type": "markdown",
      "source": [
        "### 2. **Manual Diagram (by your hand, not a generated image)**\n",
        "\n",
        "Carefully plan and draw **by hand** a diagram or a set of diagrams that:\n",
        "\n",
        "- Explain the process of using **transposed convolution**.\n",
        "- Use an example of a **small input grid of 2D points** which gets expanded into a larger output grid.\n",
        "- Explain how stride, padding, and the kernel shape affect the result.\n",
        "- Show intermediate steps of the operation, not just input and output.\n",
        "\n",
        "**Scan or photograph your diagram(s)**, and upload it to your **GitHub repository** for this course."
      ],
      "metadata": {
        "id": "8T_0A6hSoSmL"
      }
    },
    {
      "cell_type": "markdown",
      "source": [
        "![Image 1.](https://raw.githubusercontent.com/ewapajak/ML/main/IMG_1010.jpeg)"
      ],
      "metadata": {
        "id": "69iMr9RlSFle"
      }
    },
    {
      "cell_type": "markdown",
      "source": [
        "![Image 2.](https://raw.githubusercontent.com/ewapajak/ML/main/IMG_1011.jpeg)"
      ],
      "metadata": {
        "id": "eWuzOziUSiJ6"
      }
    },
    {
      "cell_type": "markdown",
      "source": [
        "![Image 3.](https://raw.githubusercontent.com/ewapajak/ML/main/IMG_1012.jpeg)"
      ],
      "metadata": {
        "id": "_Ybod4vPSm1t"
      }
    },
    {
      "cell_type": "markdown",
      "source": [
        "![Image 4.](https://raw.githubusercontent.com/ewapajak/ML/main/IMG_1013.jpeg)"
      ],
      "metadata": {
        "id": "Fq67L55RSpuo"
      }
    }
  ]
}