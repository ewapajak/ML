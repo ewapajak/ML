{
  "nbformat": 4,
  "nbformat_minor": 0,
  "metadata": {
    "colab": {
      "provenance": [],
      "authorship_tag": "ABX9TyNCC/4SfsPWOj1CPXqXdZiT",
      "include_colab_link": true
    },
    "kernelspec": {
      "name": "python3",
      "display_name": "Python 3"
    },
    "language_info": {
      "name": "python"
    }
  },
  "cells": [
    {
      "cell_type": "markdown",
      "metadata": {
        "id": "view-in-github",
        "colab_type": "text"
      },
      "source": [
        "<a href=\"https://colab.research.google.com/github/ewapajak/ML/blob/main/Homework11_autoencoders.ipynb\" target=\"_parent\"><img src=\"https://colab.research.google.com/assets/colab-badge.svg\" alt=\"Open In Colab\"/></a>"
      ]
    },
    {
      "cell_type": "markdown",
      "source": [
        "# **Homework Assignment: Understanding Deconvolution in Autoencoders**:\n",
        "---------------"
      ],
      "metadata": {
        "id": "mdjICVBgoFPU"
      }
    },
    {
      "cell_type": "markdown",
      "source": [
        "### 1. **Theory Exploration**\n",
        "\n",
        "Using markdown cells in your Colab notebook, answer the following:"
      ],
      "metadata": {
        "id": "bBqnHZ-joIVR"
      }
    },
    {
      "cell_type": "markdown",
      "source": [
        "- What is a **transposed convolution**?"
      ],
      "metadata": {
        "id": "viBHXuNucVr3"
      }
    },
    {
      "cell_type": "markdown",
      "source": [
        "A **transposed convolution** is a type of neural network layer used to increase the spatial dimensions of feautre maps, effectively performing upsampling. Unlike standard convolutions, which typically reduce spatial resolution, transposed convolutions expand it by distributing input values over a larger area using a convolutional kernel. They use the same parameters as regular convolutions (stride, padding, kernel size etc.), but apply them in reverse. This allows the layer to reconstruct the spatial layout of the data rather than the exact original values. Transposed convolutions are commmonly used in tasks like image generation, where recoving the spatial resolution of the output is essential."
      ],
      "metadata": {
        "id": "AvLY6nN_eblN"
      }
    },
    {
      "cell_type": "markdown",
      "source": [
        "- How does it differ from a regular convolution?"
      ],
      "metadata": {
        "id": "1TmT_dLlcYbh"
      }
    },
    {
      "cell_type": "markdown",
      "source": [
        "|    | Regular Convolution             | Transposed Convolution |\n",
        "|---|-------------------|------------|\n",
        "| **Output size**          | Usually reduces spatial dimensions    | Usually increases spatial dimenstions        |\n",
        "| **Padding**       | Applied to the input in order to control output size  | Applied to the output, it crops the edges         |\n",
        "| **Purpose** | Downsampling, compression and feature extraction   | Upsampling, reconstructs the space, generates features of a higher resolution (in decoders) |\n",
        "| **Stride**| Controls how far the kernel jumps across input (the larger the stride, the smaller the output)| Controls the spacing between unsampled values, the larger the stride, the larger the output|\n",
        "|**Kernel**| Slides over the input, its size determines the size of the region being processed at each step| Applied to each input element, determines how far each input value spreads in the output|\n",
        "|**Use**| Encoders (e.g. feature extraction)| Decoders (e.g image generation, reconstruction)|\n"
      ],
      "metadata": {
        "id": "YsRkbuHQhmqY"
      }
    },
    {
      "cell_type": "markdown",
      "source": [
        "- How does it upsample feature maps?"
      ],
      "metadata": {
        "id": "QS72tIV7caiL"
      }
    },
    {
      "cell_type": "markdown",
      "source": [
        "The **transposed convolution** maps each input value to a larger output area using a kernel. During this processs, the kernel values are multiplied with the input and accumulated at overlapping output positions. When the operation begins, the kernel is places at the top-left corener fo the expanded output space. It performs element-wise multiplications with the overlapping input area, producing a scalar value for that region. The kernel then shifts to the right by a defined stride and repeates the operation until it can no longer move horizontally, at which point it moves down and continues the process row by row until the entire output has been covered. This allows the network to learn how to reconstruct higher-resolution feature maps in a way that preserves spatial structure."
      ],
      "metadata": {
        "id": "bdyiH_uPzoLE"
      }
    },
    {
      "cell_type": "markdown",
      "source": [
        "- What are **stride**, **padding**, and **kernel size**, and how do they influence the result in a transposed convolution?"
      ],
      "metadata": {
        "id": "Q9z0zLsvccgK"
      }
    },
    {
      "cell_type": "markdown",
      "source": [
        "**Stride** - The distance between inserted values in the output space before applying the kernel, contorlling how much the upsampled output overlaps during recostruction. A larger stride increases the spacing, resulting in a more spread-out output (larger output)\n",
        "\n",
        "\n",
        "**Padding** - a parameter that trims the final output by removing a frame around the edges. Unlike in standard convolution - where padding is added to the input to preserve size - **transposed convolution** applies padding at the end. If the output tensor has excess spatial dimension, the padding compensates for this by cropping the output.\n",
        "\n",
        "**Kernel size** - defines the dimensions of the convolutional filter. In a transposed convolution the kernel is applied to each input position in an expanded output space. The larger the kernel, the larger the influence each input value has on the output, hence the larger output.\n",
        "\n"
      ],
      "metadata": {
        "id": "ZtKqTJs5znOK"
      }
    },
    {
      "cell_type": "markdown",
      "source": [
        "### 2. **Manual Diagram (by your hand, not a generated image)**\n",
        "\n",
        "Carefully plan and draw **by hand** a diagram or a set of diagrams that:\n",
        "\n",
        "- Explain the process of using **transposed convolution**.\n",
        "- Use an example of a **small input grid of 2D points** which gets expanded into a larger output grid.\n",
        "- Explain how stride, padding, and the kernel shape affect the result.\n",
        "- Show intermediate steps of the operation, not just input and output.\n",
        "\n",
        "**Scan or photograph your diagram(s)**, and upload it to your **GitHub repository** for this course."
      ],
      "metadata": {
        "id": "8T_0A6hSoSmL"
      }
    },
    {
      "cell_type": "markdown",
      "source": [
        "##**Transposed convolution**:"
      ],
      "metadata": {
        "id": "nqT0YgvST5kj"
      }
    },
    {
      "cell_type": "markdown",
      "source": [
        "![Image 1.](https://raw.githubusercontent.com/ewapajak/ML/main/IMG_1010.jpeg)"
      ],
      "metadata": {
        "id": "69iMr9RlSFle"
      }
    },
    {
      "cell_type": "markdown",
      "source": [
        "![Image 2.](https://raw.githubusercontent.com/ewapajak/ML/main/IMG_1011.jpeg)"
      ],
      "metadata": {
        "id": "eWuzOziUSiJ6"
      }
    },
    {
      "cell_type": "markdown",
      "source": [
        "##**How transposed convolutions relate to regular convolutions**:"
      ],
      "metadata": {
        "id": "N2ILZoHUT-0h"
      }
    },
    {
      "cell_type": "markdown",
      "source": [
        "![Image 3.](https://raw.githubusercontent.com/ewapajak/ML/main/IMG_1012.jpeg)"
      ],
      "metadata": {
        "id": "_Ybod4vPSm1t"
      }
    },
    {
      "cell_type": "markdown",
      "source": [
        "![Image 4.](https://raw.githubusercontent.com/ewapajak/ML/main/IMG_1013.jpeg)"
      ],
      "metadata": {
        "id": "Fq67L55RSpuo"
      }
    }
  ]
}