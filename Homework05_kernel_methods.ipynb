{
  "nbformat": 4,
  "nbformat_minor": 0,
  "metadata": {
    "colab": {
      "provenance": [],
      "authorship_tag": "ABX9TyMiPs3Ks1po8xbKF9EeprwJ",
      "include_colab_link": true
    },
    "kernelspec": {
      "name": "python3",
      "display_name": "Python 3"
    },
    "language_info": {
      "name": "python"
    }
  },
  "cells": [
    {
      "cell_type": "markdown",
      "metadata": {
        "id": "view-in-github",
        "colab_type": "text"
      },
      "source": [
        "<a href=\"https://colab.research.google.com/github/ewapajak/ML/blob/main/Homework05_kernel_methods.ipynb\" target=\"_parent\"><img src=\"https://colab.research.google.com/assets/colab-badge.svg\" alt=\"Open In Colab\"/></a>"
      ]
    },
    {
      "cell_type": "markdown",
      "source": [
        "# **Homework Assignment: Polynomial Kernel SVM in 3D Feature Space**\n",
        "\n",
        "\n",
        "-------------------------------\n",
        "You have seen how a polynomial kernel of degree 2 can map the original 2D data\n",
        "$$(x_1, x_2)$$\n",
        "to a 3D feature space via some transformation\n",
        "$$\n",
        "\\phi(\\mathbf{x}).\n",
        "$$\n",
        "You also saw that **the decision boundary** in the 3D space—expected to be a hyperplane—**appears** as a circular surface when visualized.\n"
      ],
      "metadata": {
        "id": "SzFB43jgMUE3"
      }
    },
    {
      "cell_type": "markdown",
      "source": [
        "## **Secondary Question**\n",
        "\n",
        "Explain **why** a hyperplane in 3D becomes a **circular (or elliptical) curve** when viewed back in the original 2D plane of the dataset."
      ],
      "metadata": {
        "id": "_BNpUzKLXMNE"
      }
    },
    {
      "cell_type": "markdown",
      "source": [
        "The hyperplane in 3D is given by:\n",
        "$$ w^\\top \\phi(x) + b = 0 $$\n",
        "\n",
        "When using the polynomial kernel of degree 2, we are transforming our data into a 3D space. The hyperplane in the new 3D space is given by the following equation:\n",
        "\n",
        "$$\n",
        "w_1 z_1 + w_2 z_2 + w_3 z_3 + C = 0\n",
        "$$\n",
        "\n",
        "(We substitute: $z_1=x_1^2, z_2=x_1 x_2, z_3 = x_2^2$, $w_i$ are weights)\n",
        "\n",
        "which is a flat surface (hyperplane) in 3D.\n",
        "\n",
        "Substituting $\\phi(\\mathbf{x}) = [x_1^2,\\ \\sqrt{2}x_1x_2,\\ x_2^2]$ we get an explicit equation:\n",
        "\n",
        "$$\n",
        "a x_1^2 + b x_1 x_2 + c x_2^2 + d = 0\n",
        "$$\n",
        "\n",
        "We can clearly see that the equation above is of an elliptical shape, that's why when we project the 3D hyperplane back to 2D space we get a nonlinear decision boundary (a circle).\n",
        "\n"
      ],
      "metadata": {
        "id": "2HXsIUm-bazJ"
      }
    },
    {
      "cell_type": "markdown",
      "source": [
        "## **Primary Question**\n",
        "\n",
        "**Why does the SVM's decision boundary in the higher-dimensional (3D) feature space *not* look like a “flat” hyperplane,**\n",
        "even though we *know* the classifier’s separating surface *is* mathematically linear in that space?\n",
        "\n",
        "\n",
        "The decision boundary does not look \"flat\" because we are only plotting a subspace of the 3D space, we are mapping 2D space into a 3D space. What we saw in class was the intersection of a linear decision boundary (\"flat\" hyperplane) and a nonlinear 2D surface. This results in the decision boundary looking \"curved\", while, as discussed in the secondary question, it's actually linearly defined.\n"
      ],
      "metadata": {
        "id": "bYWdBs3Eh8gk"
      }
    }
  ]
}