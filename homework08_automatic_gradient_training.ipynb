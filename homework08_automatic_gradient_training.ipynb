{
  "nbformat": 4,
  "nbformat_minor": 0,
  "metadata": {
    "colab": {
      "provenance": [],
      "authorship_tag": "ABX9TyObyLem4DfLbhPAOAnRIXES",
      "include_colab_link": true
    },
    "kernelspec": {
      "name": "python3",
      "display_name": "Python 3"
    },
    "language_info": {
      "name": "python"
    }
  },
  "cells": [
    {
      "cell_type": "markdown",
      "metadata": {
        "id": "view-in-github",
        "colab_type": "text"
      },
      "source": [
        "<a href=\"https://colab.research.google.com/github/ewapajak/ML/blob/main/homework08_automatic_gradient_training.ipynb\" target=\"_parent\"><img src=\"https://colab.research.google.com/assets/colab-badge.svg\" alt=\"Open In Colab\"/></a>"
      ]
    },
    {
      "cell_type": "markdown",
      "source": [
        "# **Homework Assignment: Working with Other Loss Functions**\n",
        "\n",
        "-------------------------------\n",
        "\n",
        "During the class today, we reconstructed an **ellipse**. The ellipse was defined with two **foci** and $C$ (the sum of distances of the ellipse points from the foci).\n",
        "\n",
        "To reconstruct the ellipse through optimization, we began with **$N$ points** scattered randomly in the 2D plane. Our goal was to adjust their positions so that they satisfy the elliptical constraint as closely as possible. We achieved this by minimizing the **error-related loss**, $L^{(2)}_{\\text{ellipse}}$ which was defined in today's class with $\\ell_2$ norm as:\n",
        "\n",
        "$$\n",
        "L^{(2)}_{\\text{ellipse}} = \\frac{1}{N} \\sum_{i=1}^{N} \\epsilon_i^2\n",
        "$$\n",
        "\n",
        "where\n",
        "$$\n",
        " \\epsilon_i = d_{i1} + d_{i2} - C\n",
        "$$\n",
        "where $N$ is the number of points, and $d_{i1}, d_{i2}$ are their distances to the two foci.\n",
        "\n",
        "In the homework assignment you will experiment with 3 other loss definitions based on some other possible norms."
      ],
      "metadata": {
        "id": "JZMOsXFaRW6R"
      }
    },
    {
      "cell_type": "markdown",
      "source": [
        "##**Imports and plot_results definition**:\n",
        "I will use the code from our class"
      ],
      "metadata": {
        "id": "5tXNTnsZTjGb"
      }
    },
    {
      "cell_type": "code",
      "source": [
        "import torch\n",
        "import matplotlib.pyplot as plt\n",
        "import numpy as np\n",
        "\n",
        "# Fix the random seed for reproducibility\n",
        "torch.manual_seed(42)\n",
        "np.random.seed(42)\n",
        "\n",
        "# Define ellipse parameters\n",
        "focus1 = torch.tensor([-2.0, 0.0])  # First focus\n",
        "focus2 = torch.tensor([2.0, 0.0])   # Second focus\n",
        "constant_sum = 6.0  # The sum of distances to the two foci\n",
        "\n",
        "# Initialize random 2D points from uniform distribution\n",
        "num_points = 100\n",
        "points = torch.rand((num_points, 2)) * 10 - 5  # Uniformly distributed in [-5, 5]\n",
        "points.requires_grad = True\n",
        "\n",
        "\n",
        "\n",
        "def plot_results(epoch, trajectories, loss_history=None):\n",
        "    if loss_history is not None:\n",
        "      fig, axes = plt.subplots(1, 2, figsize=(12, 6))\n",
        "    else:\n",
        "      fig, axes = plt.subplots(1, 1, figsize=(6, 6))\n",
        "      axes = [axes]\n",
        "    points = np.array([trajectories[i][-1] for i in range(num_points)])\n",
        "    # Left plot: Scatter of points with trajectories\n",
        "    axes[0].scatter(points[:, 0], points[:, 1], label=f'Points - Epoch {epoch}')\n",
        "    f1 = focus1.detach().cpu().numpy()\n",
        "    f2 = focus2.detach().cpu().numpy()\n",
        "    axes[0].scatter([f1[0], f2[0]], [f1[1], f2[1]], color='red', marker='x', s=100, label='Foci')\n",
        "\n",
        "    # Draw movement traces\n",
        "    for i in range(num_points):\n",
        "        trajectory = np.array(trajectories[i])\n",
        "        axes[0].plot(trajectory[:, 0], trajectory[:, 1], color='gray', linestyle='-', linewidth=0.5)\n",
        "\n",
        "    axes[0].set_xlabel('X')\n",
        "    axes[0].set_ylabel('Y')\n",
        "    axes[0].legend()\n",
        "\n",
        "\n",
        "    axes[0].grid()\n",
        "\n",
        "    if loss_history is not None:\n",
        "      axes[0].set_title(f'Points after Epoch {epoch}')\n",
        "      # Right plot: Loss history\n",
        "      axes[1].plot(loss_history, color='blue')\n",
        "      axes[1].set_xlabel(\"Epoch\")\n",
        "      axes[1].set_ylabel(\"Loss\")\n",
        "      axes[1].set_title(\"Loss Convergence\")\n",
        "      axes[1].grid()\n",
        "    else:\n",
        "      axes[0].set_title(f'Points before Epoch {epoch}')\n",
        "\n",
        "    plt.show()\n",
        "\n",
        "# Reset trajectories\n",
        "trajectories = [[] for _ in range(num_points)]\n",
        "loss_history = []\n",
        "\n",
        "for i in range(num_points):\n",
        "    trajectories[i].append(points[i].detach().cpu().clone().numpy())\n",
        "\n",
        "plot_results(0, trajectories, None)\n"
      ],
      "metadata": {
        "colab": {
          "base_uri": "https://localhost:8080/",
          "height": 564
        },
        "id": "BJxdBmKlTs_E",
        "outputId": "0898bb9f-f2e5-49fc-af65-ba03163d1c23"
      },
      "execution_count": null,
      "outputs": [
        {
          "output_type": "display_data",
          "data": {
            "text/plain": [
              "<Figure size 600x600 with 1 Axes>"
            ],
            "image/png": "[encoded data removed]"
          },
          "metadata": {}
        }
      ]
    },
    {
      "cell_type": "markdown",
      "source": [
        "##**The norms**:\n",
        "\n"
      ],
      "metadata": {
        "id": "uZ-g8TXIS7PR"
      }
    },
    {
      "cell_type": "markdown",
      "source": [
        "1. $\\ell_0$ norm resulting in\n",
        "  $$\n",
        "  L^{(0)}_{\\text{ellipse}} = \\frac{1}{N} \\sum_{i=1}^{N} \\mathbf{1}(\\epsilon_i \\neq 0)\n",
        "  $$\n",
        "  - If you actually succeed to code this loss function, the question for you to answer in relation to $L^{(0)}_{\\text{ellipse}}$ is why the training is not progressing with passing epochs.\n",
        "  - If you actually fail to code this loss function, the question for you to answer is to explain the failure and reason out theoretically, why the training would not be progressing with passing epochs, anyway."
      ],
      "metadata": {
        "id": "YVPZQV2eSjYS"
      }
    },
    {
      "cell_type": "markdown",
      "source": [
        "##**Idea**:"
      ],
      "metadata": {
        "id": "Ux2EHAkodV5A"
      }
    },
    {
      "cell_type": "code",
      "source": [
        "dist1 = torch.norm(points - focus1, dim=1)\n",
        "dist2 = torch.norm(points - focus2, dim=1)\n",
        "loss = torch.sum((dist1 + dist2 - constant_sum != 0).float())"
      ],
      "metadata": {
        "id": "xsytxhgneqt_"
      },
      "execution_count": null,
      "outputs": []
    },
    {
      "cell_type": "markdown",
      "source": [
        "This approach would be correct. The problem is that the loss function implemented as in the code above is not differentiable. The indicator function created a binary tensor; as a result, `loss.backward()` fails. Let's try another approach and implement the loss function using a smooth and differentiable approximation of the $L_{0}$ norm."
      ],
      "metadata": {
        "id": "cMeRAktce0Be"
      }
    },
    {
      "cell_type": "markdown",
      "source": [
        "\n",
        "\n",
        "$$Loss = \\sum_{i=1}^{N}\\frac{|\\epsilon_{i}|}{|\\epsilon_{i}|+δ}$$ <br>\n",
        "where $ \\epsilon_i = d_{i1} + d_{i2} - C$ and $\\delta$ is a small value.\n",
        "\n",
        "- For large values $|x_{i}|$ our loss function approaches 1:\n",
        "\n",
        "$$\\frac{|\\epsilon_{i}|}{|\\epsilon_{i}|+δ} \\approx 1 $$\n",
        "\n",
        "- For values $|x_{i}|$ near zero our loss function approaches 0:\n",
        "\n",
        "$$ \\frac{|\\epsilon_{i}|}{|\\epsilon_{i}|+δ} \\approx \\frac{0}{\\delta} = 0 $$\n",
        "\n",
        "Therefore the function behaves similarly to an indicator.\n"
      ],
      "metadata": {
        "id": "pToh-qF2lDn_"
      }
    },
    {
      "cell_type": "code",
      "source": [
        "import torch\n",
        "import matplotlib.pyplot as plt\n",
        "import numpy as np\n",
        "\n",
        "# Fix the random seed for reproducibility\n",
        "torch.manual_seed(42)\n",
        "np.random.seed(42)\n",
        "\n",
        "# Define ellipse parameters\n",
        "focus1 = torch.tensor([-2.0, 0.0])  # First focus\n",
        "focus2 = torch.tensor([2.0, 0.0])   # Second focus\n",
        "constant_sum = 6.0  # The sum of distances to the two foci\n",
        "\n",
        "# Initialize random 2D points from uniform distribution\n",
        "num_points = 100\n",
        "points = torch.rand((num_points, 2)) * 10 - 5  # Uniformly distributed in [-5, 5]\n",
        "points.requires_grad = True\n",
        "\n",
        "# Reset trajectories\n",
        "trajectories = [[] for _ in range(num_points)]\n",
        "loss_history = []\n",
        "\n",
        "\n",
        "import time\n",
        "# Start timing\n",
        "start_time = time.time()\n",
        "\n",
        "\n",
        "# Define optimizer\n",
        "optimizer = torch.optim.Adam([points], lr=0.1)\n",
        "\n",
        "# Training loop\n",
        "num_epochs = 1000\n",
        "for epoch in range(num_epochs):\n",
        "    optimizer.zero_grad()\n",
        "\n",
        "    # Compute distances to both foci\n",
        "    dist1 = torch.norm(points - focus1, dim=1)\n",
        "    dist2 = torch.norm(points - focus2, dim=1)\n",
        "\n",
        "    # Compute loss - it is implemented as MSE loss related to l_2 norm\n",
        "    # TODO: your job is to replace the line below\n",
        "    # with l_0, l_1 and l_infty - related loss\n",
        "    eps = 1e-6\n",
        "    loss = torch.sum(torch.abs(dist1 + dist2 - constant_sum) / (torch.abs(dist1 + dist2 - constant_sum) + eps))\n",
        "\n",
        "    loss.backward()\n",
        "    optimizer.step()\n",
        "\n",
        "    loss_history.append(loss.item())\n",
        "\n",
        "    # Store current positions for tracking movement\n",
        "    for i in range(num_points):\n",
        "        trajectories[i].append(points[i].detach().cpu().clone().numpy())\n",
        "\n",
        "    # Plot results every 10th epoch\n",
        "    if epoch % 10 == 0:\n",
        "        plot_results(epoch, trajectories, loss_history)\n",
        "\n",
        "    if epoch % 10 == 0:\n",
        "        print(f\"Epoch {epoch}: Loss = {loss.item():.6f}\")\n",
        "\n",
        "#Final plot\n",
        "plot_results(epoch, trajectories, loss_history)\n",
        "\n",
        "\n",
        "# End timing\n",
        "end_time = time.time()\n",
        "\n",
        "# Calculate the elapsed time\n",
        "elapsed_time = end_time - start_time\n",
        "print(f\"Elapsed time: {elapsed_time} seconds\")"
      ],
      "metadata": {
        "colab": {
          "base_uri": "https://localhost:8080/",
          "height": 1000
        },
        "id": "_TMw3nLBTNfB",
        "outputId": "7d5408a8-b4d1-4e6c-bb2c-7736a253156d"
      },
      "execution_count": null,
      "outputs": []
    },
    {
      "cell_type": "markdown",
      "source": [
        "The $L_{0}$ norm loss is discrete and a non-differentiable funtion, therefore it doesn't have a gradient and the algorith doesn't have a gradient it could follow.\n",
        "\n",
        "To work around this problem we introduced a smooth approximation of the $L_{0}$ norm loss - a differentiable function, which technically should allow backpropagation. Yet, our results show that this loss still fails to converge.\n",
        "\n",
        "As our point get closer to the ellipse, $ \\epsilon_i = d_{i1} + d_{i2} - C$ values approach 0, and so does the gradient, resulting in small optimizer steps and very weak convergence.\n",
        "\n",
        "We can observe that our code produced a sharply shaped loss convergence plot. Its shape can be attributed to the discrete nature of our norm. This behaviour leads us to conclude that the convergence is not only slow, but also unstable, lacking smoothness, even though we implemented a smoothened version of our loss function.\n"
      ],
      "metadata": {
        "id": "NmxREQAA5Crx"
      }
    },
    {
      "cell_type": "markdown",
      "source": [
        "2. $\\ell_1$ norm resulting in\n",
        "  $$\n",
        "  L^{(1)}_{\\text{ellipse}} = \\frac{1}{N} \\sum_{i=1}^{N} |\\epsilon_i|\n",
        "  $$\n",
        "  The question for you to answer in relation to $L^{(1)}_{\\text{ellipse}}$ is why the training loss doesn't converge, even after the ellipse has been fully drawn."
      ],
      "metadata": {
        "id": "-zka194HSlQT"
      }
    },
    {
      "cell_type": "code",
      "source": [
        "import torch\n",
        "import matplotlib.pyplot as plt\n",
        "import numpy as np\n",
        "\n",
        "# Fix the random seed for reproducibility\n",
        "torch.manual_seed(42)\n",
        "np.random.seed(42)\n",
        "\n",
        "# Define ellipse parameters\n",
        "focus1 = torch.tensor([-2.0, 0.0])  # First focus\n",
        "focus2 = torch.tensor([2.0, 0.0])   # Second focus\n",
        "constant_sum = 6.0  # The sum of distances to the two foci\n",
        "\n",
        "# Initialize random 2D points from uniform distribution\n",
        "num_points = 100\n",
        "points = torch.rand((num_points, 2)) * 10 - 5  # Uniformly distributed in [-5, 5]\n",
        "points.requires_grad = True\n",
        "\n",
        "# Reset trajectories\n",
        "trajectories = [[] for _ in range(num_points)]\n",
        "loss_history = []\n",
        "\n",
        "\n",
        "import time\n",
        "# Start timing\n",
        "start_time = time.time()\n",
        "\n",
        "\n",
        "# Define optimizer\n",
        "optimizer = torch.optim.Adam([points], lr=0.1)\n",
        "\n",
        "# Training loop\n",
        "num_epochs = 1000\n",
        "for epoch in range(num_epochs):\n",
        "    optimizer.zero_grad()\n",
        "\n",
        "    # Compute distances to both foci\n",
        "    dist1 = torch.norm(points - focus1, dim=1)\n",
        "    dist2 = torch.norm(points - focus2, dim=1)\n",
        "\n",
        "    # Compute loss - it is implemented as MSE loss related to l_2 norm\n",
        "    # TODO: your job is to replace the line below\n",
        "    # with l_0, l_1 and l_infty - related loss\n",
        "    loss = torch.mean(torch.abs(dist1 + dist2 - constant_sum))\n",
        "\n",
        "    loss.backward()\n",
        "    optimizer.step()\n",
        "\n",
        "    loss_history.append(loss.item())\n",
        "\n",
        "    # Store current positions for tracking movement\n",
        "    for i in range(num_points):\n",
        "        trajectories[i].append(points[i].detach().cpu().clone().numpy())\n",
        "\n",
        "    # Plot results every 10th epoch\n",
        "    if epoch % 10 == 0:\n",
        "        plot_results(epoch, trajectories, loss_history)\n",
        "\n",
        "    if epoch % 10 == 0:\n",
        "        print(f\"Epoch {epoch}: Loss = {loss.item():.6f}\")\n",
        "\n",
        "#Final plot\n",
        "plot_results(epoch, trajectories, loss_history)\n",
        "\n",
        "\n",
        "# End timing\n",
        "end_time = time.time()\n",
        "\n",
        "# Calculate the elapsed time\n",
        "elapsed_time = end_time - start_time\n",
        "print(f\"Elapsed time: {elapsed_time} seconds\")"
      ],
      "metadata": {
        "colab": {
          "base_uri": "https://localhost:8080/",
          "height": 1000
        },
        "id": "-RM9aYc4T964",
        "outputId": "dccb4e53-3d50-4f31-f273-68a86e42da7f"
      },
      "execution_count": null,
      "outputs": []
    },
    {
      "cell_type": "markdown",
      "source": [
        "The $L_{1}$ norm loss is almost everywhere differentiable (except for zero). Due to its non-smooth nature at zero, as our $ \\epsilon_i = d_{i1} + d_{i2} - C$ residuals approach zero, the optimizer encounters changes in the gradient direction, resulting in irregular and unstable update steps, especially noticable in the last stages of our optimization. Unlike the $L_{2}$ loss, which we observed in class to converge smoothly, the $L_{1}$ loss fluctuates near zero, without setting. Consequently, despite the points forming a visually appealing ellipse, the convergence is poor and unstable."
      ],
      "metadata": {
        "id": "4iM-sfDaBeor"
      }
    },
    {
      "cell_type": "markdown",
      "source": [
        "3. $\\ell_\\infty$ norm resulting in\n",
        "  $$\n",
        "  L^{(\\infty)}_{\\text{ellipse}} =  \\max_{i} |\\epsilon_i|\n",
        "  $$\n",
        "  The question for you to answer in relation to $L^{(\\infty)}_{\\text{ellipse}}$ is why the training takes so long and it doesn't converge in the end, either."
      ],
      "metadata": {
        "id": "dAr_MnKeSuUC"
      }
    },
    {
      "cell_type": "code",
      "source": [
        "import torch\n",
        "import matplotlib.pyplot as plt\n",
        "import numpy as np\n",
        "\n",
        "# Fix the random seed for reproducibility\n",
        "torch.manual_seed(42)\n",
        "np.random.seed(42)\n",
        "\n",
        "# Define ellipse parameters\n",
        "focus1 = torch.tensor([-2.0, 0.0])  # First focus\n",
        "focus2 = torch.tensor([2.0, 0.0])   # Second focus\n",
        "constant_sum = 6.0  # The sum of distances to the two foci\n",
        "\n",
        "# Initialize random 2D points from uniform distribution\n",
        "num_points = 100\n",
        "points = torch.rand((num_points, 2)) * 10 - 5  # Uniformly distributed in [-5, 5]\n",
        "points.requires_grad = True\n",
        "\n",
        "# Reset trajectories\n",
        "trajectories = [[] for _ in range(num_points)]\n",
        "loss_history = []\n",
        "\n",
        "\n",
        "import time\n",
        "# Start timing\n",
        "start_time = time.time()\n",
        "\n",
        "\n",
        "# Define optimizer\n",
        "optimizer = torch.optim.Adam([points], lr=0.1)\n",
        "\n",
        "# Training loop\n",
        "num_epochs = 1000\n",
        "for epoch in range(num_epochs):\n",
        "    optimizer.zero_grad()\n",
        "\n",
        "    # Compute distances to both foci\n",
        "    dist1 = torch.norm(points - focus1, dim=1)\n",
        "    dist2 = torch.norm(points - focus2, dim=1)\n",
        "\n",
        "    # Compute loss - it is implemented as MSE loss related to l_2 norm\n",
        "    # TODO: your job is to replace the line below\n",
        "    # with l_0, l_1 and l_infty - related loss\n",
        "    loss = torch.max(torch.abs(dist1 + dist2 - constant_sum))\n",
        "\n",
        "    loss.backward()\n",
        "    optimizer.step()\n",
        "\n",
        "    loss_history.append(loss.item())\n",
        "\n",
        "    # Store current positions for tracking movement\n",
        "    for i in range(num_points):\n",
        "        trajectories[i].append(points[i].detach().cpu().clone().numpy())\n",
        "\n",
        "    # Plot results every 10th epoch\n",
        "    if epoch % 10 == 0:\n",
        "        plot_results(epoch, trajectories, loss_history)\n",
        "\n",
        "    if epoch % 10 == 0:\n",
        "        print(f\"Epoch {epoch}: Loss = {loss.item():.6f}\")\n",
        "\n",
        "#Final plot\n",
        "plot_results(epoch, trajectories, loss_history)\n",
        "\n",
        "\n",
        "# End timing\n",
        "end_time = time.time()\n",
        "\n",
        "# Calculate the elapsed time\n",
        "elapsed_time = end_time - start_time\n",
        "print(f\"Elapsed time: {elapsed_time} seconds\")"
      ],
      "metadata": {
        "colab": {
          "base_uri": "https://localhost:8080/",
          "height": 1000
        },
        "id": "wHmKA7ofT_hi",
        "outputId": "6d763d7f-37ce-433c-f33a-36a6ffe52b63"
      },
      "execution_count": null,
      "outputs": []
    },
    {
      "cell_type": "markdown",
      "source": [
        "The $L_{∞}$ norm captures only the largest error across all point, making it particularly sensitive to outliers, slowing down the optimization process. During training, the model prioritizes correcting just the worst-off points rather than improving the dataset as a whole. As a result, the convergence is slow and inefficient - it takes significantly more epochs (compared to $L_1$ or $L_2$ loss) to form a recognizable ellipse. Furthermore, as the maximum error approaches zero, the gradient becomes unstable, which again, leads to irregular and 'squiggly' updates and unstable convergence behaviour."
      ],
      "metadata": {
        "id": "bwZMyIF2Qs1q"
      }
    }
  ]
}